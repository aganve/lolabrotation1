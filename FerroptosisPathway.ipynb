{
 "cells": [
  {
   "cell_type": "code",
   "execution_count": 1,
   "metadata": {
    "scrolled": true
   },
   "outputs": [
    {
     "data": {
      "text/plain": [
       "<Figure size 640x480 with 1 Axes>"
      ]
     },
     "metadata": {},
     "output_type": "display_data"
    },
    {
     "data": {
      "text/plain": [
       "<Figure size 640x480 with 1 Axes>"
      ]
     },
     "metadata": {},
     "output_type": "display_data"
    },
    {
     "data": {
      "text/plain": [
       "<Figure size 640x480 with 1 Axes>"
      ]
     },
     "metadata": {},
     "output_type": "display_data"
    },
    {
     "data": {
      "text/plain": [
       "<Figure size 640x480 with 1 Axes>"
      ]
     },
     "metadata": {},
     "output_type": "display_data"
    },
    {
     "data": {
      "text/plain": [
       "<Figure size 640x480 with 1 Axes>"
      ]
     },
     "metadata": {},
     "output_type": "display_data"
    },
    {
     "data": {
      "text/plain": [
       "<Figure size 640x480 with 1 Axes>"
      ]
     },
     "metadata": {},
     "output_type": "display_data"
    },
    {
     "data": {
      "text/plain": [
       "<Figure size 640x480 with 1 Axes>"
      ]
     },
     "metadata": {},
     "output_type": "display_data"
    },
    {
     "data": {
      "text/plain": [
       "<Figure size 640x480 with 1 Axes>"
      ]
     },
     "metadata": {},
     "output_type": "display_data"
    },
    {
     "data": {
      "text/plain": [
       "<Figure size 640x480 with 1 Axes>"
      ]
     },
     "metadata": {},
     "output_type": "display_data"
    },
    {
     "data": {
      "text/plain": [
       "<Figure size 640x480 with 1 Axes>"
      ]
     },
     "metadata": {},
     "output_type": "display_data"
    },
    {
     "data": {
      "text/plain": [
       "<Figure size 640x480 with 1 Axes>"
      ]
     },
     "metadata": {},
     "output_type": "display_data"
    },
    {
     "data": {
      "text/plain": [
       "<Figure size 640x480 with 1 Axes>"
      ]
     },
     "metadata": {},
     "output_type": "display_data"
    },
    {
     "data": {
      "text/plain": [
       "<Figure size 640x480 with 1 Axes>"
      ]
     },
     "metadata": {},
     "output_type": "display_data"
    },
    {
     "data": {
      "text/plain": [
       "<Figure size 640x480 with 1 Axes>"
      ]
     },
     "metadata": {},
     "output_type": "display_data"
    }
   ],
   "source": [
    "from ferroptosis import model as model\n",
    "import pyvipr.pysb_viz as viz \n",
    "import numpy as np\n",
    "import matplotlib.pyplot as plt\n",
    "from pysb.simulator import ScipyOdeSimulator"
   ]
  },
  {
   "cell_type": "code",
   "execution_count": 2,
   "metadata": {
    "scrolled": false
   },
   "outputs": [
    {
     "data": {
      "application/vnd.jupyter.widget-view+json": {
       "model_id": "7101ac98fc9d4c5aa86c0f08f84f9998",
       "version_major": 2,
       "version_minor": 0
      },
      "text/plain": [
       "Viz(data=<Model 'ferroptosis' (monomers: 18, rules: 27, parameters: 69, expressions: 0, compartments: 5) at 0x…"
      ]
     },
     "metadata": {},
     "output_type": "display_data"
    }
   ],
   "source": [
    "viz.sp_rules_fxns_view(model)"
   ]
  },
  {
   "cell_type": "code",
   "execution_count": 3,
   "metadata": {},
   "outputs": [
    {
     "data": {
      "image/png": "[encoded data removed]",
      "text/plain": [
       "<Figure size 432x288 with 1 Axes>"
      ]
     },
     "metadata": {
      "needs_background": "light"
     },
     "output_type": "display_data"
    }
   ],
   "source": [
    "tspan = np.linspace(0, 500, 100) # time span of simulation (start, stop, step)\n",
    "result = ScipyOdeSimulator(model, tspan=tspan).run() # run solver of model\n",
    "\n",
    "plt.figure()\n",
    "plt.plot(tspan, result.observables['Cys2_Env_obs'][:], lw = 1.5, label = 'Cys2_Env_obs molecules') #plot observable\n",
    "plt.ylim([0,2500])\n",
    "plt.xlabel('Time [min]', fontsize=14)\n",
    "plt.ylabel('Amount of Cys2_Env_obs produced [# of molecules]', fontsize=14)\n",
    "plt.title('Cys2_Env_obs molecules')\n",
    "plt.legend(loc = 'best', fontsize = 12) # add legend to plot\n",
    "# plt.savefig('GSH:GPX4 binding.pdf') # to save figure\n",
    "plt.show()"
   ]
  },
  {
   "cell_type": "code",
   "execution_count": 4,
   "metadata": {},
   "outputs": [
    {
     "data": {
      "text/plain": [
       "array([2300.        , 2186.72786549, 2079.03444247, 1976.64486472,\n",
       "       1879.2978762 , 1786.74510826, 1698.75043687, 1615.08937429,\n",
       "       1535.54849281, 1459.92487813, 1388.02561043, 1319.66727158,\n",
       "       1254.67547681, 1192.88442963, 1134.13649876, 1078.28181607,\n",
       "       1025.17789408,  974.68926256,  926.68712282,  881.04901929,\n",
       "        837.65852707,  796.40495494,  757.18306302,  719.89279428,\n",
       "        684.4390193 ,  650.7312936 ,  618.68362694,  588.21426391,\n",
       "        559.24547544,  531.70336048,  505.51765755,  480.6215674 ,\n",
       "        456.95157857,  434.44731391,  413.0513533 ,  392.7091014 ,\n",
       "        373.36867982,  354.98074874,  337.4983992 ,  320.87703248,\n",
       "        305.07424638,  290.04972681,  275.76514408,  262.18405796,\n",
       "        249.27182412,  236.9955014 ,  225.32377057,  214.22685728,\n",
       "        203.67645306,  193.64564288,  184.10883733,  175.04170736,\n",
       "        166.4211219 ,  158.22508975,  150.43270255,  143.02408052,\n",
       "        135.98032622,  129.28346986,  122.91642515,  116.86294901,\n",
       "        111.10759861,  105.63569205,  100.43326959,   95.48705976,\n",
       "         90.78444448,   86.31343438,   82.06263596,   78.02118109,\n",
       "         74.1787818 ,   70.52562956,   67.0523697 ,   63.75013289,\n",
       "         60.61051046,   57.62550881,   54.78751856,   52.08929838,\n",
       "         49.52396245,   47.08496549,   44.76608576,   42.56140809,\n",
       "         40.46530836,   38.47243919,   36.57771649,   34.77630665,\n",
       "         33.06361411,   31.43526994,   29.88712147,   28.41521782,\n",
       "         27.01580352,   25.68530867,   24.42033904,   23.21766758,\n",
       "         22.07422621,   20.9870979 ,   19.95350932,   18.97082369,\n",
       "         18.0365341 ,   17.14825713,   16.30372669,   15.50078833])"
      ]
     },
     "execution_count": 4,
     "metadata": {},
     "output_type": "execute_result"
    }
   ],
   "source": [
    "result.observables['Cys2_Env_obs'][:]"
   ]
  },
  {
   "cell_type": "code",
   "execution_count": 9,
   "metadata": {
    "scrolled": false
   },
   "outputs": [
    {
     "data": {
      "application/vnd.jupyter.widget-view+json": {
       "model_id": "efe0b8df0d02470e810f77a5e7eea1d7",
       "version_major": 2,
       "version_minor": 0
      },
      "text/plain": [
       "Viz(data=<Model 'ferroptosis' (monomers: 18, rules: 27, parameters: 69, expressions: 0, compartments: 5) at 0x…"
      ]
     },
     "metadata": {},
     "output_type": "display_data"
    }
   ],
   "source": [
    "viz.sp_comm_louvain_view(model)"
   ]
  },
  {
   "cell_type": "code",
   "execution_count": null,
   "metadata": {},
   "outputs": [],
   "source": []
  },
  {
   "cell_type": "code",
   "execution_count": null,
   "metadata": {},
   "outputs": [],
   "source": []
  }
 ],
 "metadata": {
  "kernelspec": {
   "display_name": "Python 3",
   "language": "python",
   "name": "python3"
  },
  "language_info": {
   "codemirror_mode": {
    "name": "ipython",
    "version": 3
   },
   "file_extension": ".py",
   "mimetype": "text/x-python",
   "name": "python",
   "nbconvert_exporter": "python",
   "pygments_lexer": "ipython3",
   "version": "3.7.4"
  }
 },
 "nbformat": 4,
 "nbformat_minor": 2
}
