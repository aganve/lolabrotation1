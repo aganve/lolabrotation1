{
 "cells": [
  {
   "cell_type": "code",
   "execution_count": null,
   "metadata": {
    "scrolled": true
   },
   "outputs": [],
   "source": [
    "from ferroptosis import model as model\n",
    "import pyvipr.pysb_viz as viz \n",
    "import numpy as np\n",
    "import matplotlib.pyplot as plt\n",
    "from pysb.simulator import ScipyOdeSimulator"
   ]
  },
  {
   "cell_type": "code",
   "execution_count": null,
   "metadata": {
    "scrolled": false
   },
   "outputs": [],
   "source": [
    "viz.sp_rules_fxns_view(model)"
   ]
  },
  {
   "cell_type": "code",
   "execution_count": null,
   "metadata": {},
   "outputs": [],
   "source": [
    "tspan = np.linspace(0, 500, 100) # time span of simulation (start, stop, step)\n",
    "result = ScipyOdeSimulator(model, tspan=tspan).run() # run solver of model\n",
    "\n",
    "plt.figure()\n",
    "plt.plot(tspan, result.observables['Cys2_Env_obs'][:], lw = 1.5, label = 'Cys2_Env_obs molecules') #plot observable\n",
    "plt.ylim([0,2500])\n",
    "plt.xlabel('Time [min]', fontsize=14)\n",
    "plt.ylabel('Amount of Cys2_Env_obs produced [# of molecules]', fontsize=14)\n",
    "plt.title('Cys2_Env_obs molecules')\n",
    "plt.legend(loc = 'best', fontsize = 12) # add legend to plot\n",
    "# plt.savefig('GSH:GPX4 binding.pdf') # to save figure\n",
    "plt.show()"
   ]
  },
  {
   "cell_type": "code",
   "execution_count": null,
   "metadata": {},
   "outputs": [],
   "source": [
    "result.observables['Cys2_Env_obs'][:]"
   ]
  },
  {
   "cell_type": "code",
   "execution_count": null,
   "metadata": {
    "scrolled": false
   },
   "outputs": [],
   "source": [
    "viz.sp_comp_dyn_view(result)"
   ]
  },
  {
   "cell_type": "code",
   "execution_count": null,
   "metadata": {},
   "outputs": [],
   "source": []
  },
  {
   "cell_type": "code",
   "execution_count": null,
   "metadata": {},
   "outputs": [],
   "source": []
  }
 ],
 "metadata": {
  "kernelspec": {
   "display_name": "Python 3",
   "language": "python",
   "name": "python3"
  },
  "language_info": {
   "codemirror_mode": {
    "name": "ipython",
    "version": 3
   },
   "file_extension": ".py",
   "mimetype": "text/x-python",
   "name": "python",
   "nbconvert_exporter": "python",
   "pygments_lexer": "ipython3",
   "version": "3.7.4"
  }
 },
 "nbformat": 4,
 "nbformat_minor": 2
}
